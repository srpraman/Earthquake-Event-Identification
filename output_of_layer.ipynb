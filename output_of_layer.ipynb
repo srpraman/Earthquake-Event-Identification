{
 "cells": [
  {
   "cell_type": "code",
   "execution_count": null,
   "metadata": {},
   "outputs": [],
   "source": [
    "import numpy as np\n",
    "import tensorflow as tf\n",
    "from tensorflow import keras\n",
    "import matplotlib.pyplot as plt"
   ]
  },
  {
   "cell_type": "code",
   "execution_count": null,
   "metadata": {},
   "outputs": [],
   "source": [
    "base_dir = \"../data/test_reshaped_images\"\n",
    "# base_dir = \"../../trial_folder/reshaped_seismograms/\"\n",
    "#base_dir = \"../../filter/NOISE_spec_reshape/\"\n",
    "test_ds = tf.keras.utils.image_dataset_from_directory(base_dir, \n",
    "                                      seed = 123,\n",
    "                                      image_size = (300, 300),\n",
    "                                      batch_size = 32,\n",
    "                                      color_mode=\"grayscale\")"
   ]
  },
  {
   "cell_type": "code",
   "execution_count": null,
   "metadata": {},
   "outputs": [],
   "source": [
    "import cv2\n",
    "for x, y in test_ds.take(1):\n",
    "    print(x[0].numpy().astype(\"uint8\").shape)\n",
    "    image = (x[0].numpy().astype(\"uint8\"))\n",
    "    # image = cv2.imread('colourful.jpg')\n",
    "    cv2.imshow('trial',image)\n",
    "    # grayscale = cv2.cvtColor(image, cv2.COLOR_BGR2GRAY)\n",
    "    # cv2.imshow('Grayscale', grayscale)\n",
    "    cv2.waitKey(0) # waits until a key is pressed\n",
    "    cv2.destroyAllWindows()"
   ]
  },
  {
   "cell_type": "code",
   "execution_count": null,
   "metadata": {},
   "outputs": [],
   "source": [
    "for x, y in test_ds.take(1):\n",
    "    print(x.shape)\n",
    "    plt.imshow(x[0].numpy().astype(\"uint8\"))"
   ]
  },
  {
   "cell_type": "code",
   "execution_count": null,
   "metadata": {},
   "outputs": [],
   "source": [
    "for x, y in test_ds.take(1):\n",
    "    print(x.shape)\n",
    "    plt.imshow(x[0].numpy().astype(\"uint8\"))"
   ]
  },
  {
   "cell_type": "code",
   "execution_count": null,
   "metadata": {},
   "outputs": [],
   "source": [
    "model = tf.keras.models.load_model('../data/model/cp2_with_layer_names/')\n",
    "print(model.summary())"
   ]
  },
  {
   "cell_type": "code",
   "execution_count": null,
   "metadata": {},
   "outputs": [],
   "source": [
    "def visualize_conv_layer(layer_name, test_ds, row_size, col_size):\n",
    "  \n",
    "  layer_output=model.get_layer(layer_name).output  #get the Output of the Layer\n",
    "\n",
    "  intermediate_model=tf.keras.models.Model(inputs=model.input,outputs=layer_output) #Intermediate model between Input Layer and Output Layer which we are concerned about\n",
    "  for x, y in test_ds.take(1):\n",
    "    intermediate_prediction=intermediate_model.predict(x) #predicting in the Intermediate Node\n",
    "    #plt.imshow(x[20].numpy().astype(\"uint8\"))\n",
    "  img_index=0\n",
    "\n",
    "  print(np.shape(intermediate_prediction))\n",
    "    #---------------We will subplot the Output of the layer which will be the layer_name----------------------------------#\n",
    "  \n",
    "  fig,ax=plt.subplots(row_size,col_size) \n",
    "\n",
    "  for row in range(0,row_size):\n",
    "    for col in range(0,col_size):\n",
    "      ax[row][col].imshow(intermediate_prediction[20, :, :, img_index], cmap='gray')\n",
    "\n",
    "      img_index=img_index+1 #Increment the Index number of img_index variable\n",
    "        \n",
    "print(\"Function to Visualize the Output has been Created\")"
   ]
  },
  {
   "cell_type": "code",
   "execution_count": null,
   "metadata": {},
   "outputs": [],
   "source": [
    "visualize_conv_layer('layer1', test_ds, row_size=2, col_size=4)"
   ]
  }
 ],
 "metadata": {
  "kernelspec": {
   "display_name": "stead",
   "language": "python",
   "name": "python3"
  },
  "language_info": {
   "codemirror_mode": {
    "name": "ipython",
    "version": 3
   },
   "file_extension": ".py",
   "mimetype": "text/x-python",
   "name": "python",
   "nbconvert_exporter": "python",
   "pygments_lexer": "ipython3",
   "version": "3.9.16"
  },
  "orig_nbformat": 4,
  "vscode": {
   "interpreter": {
    "hash": "d608e7bfa37056166167c5142692bde53abd791bd4ca85e4f79560e52203aa72"
   }
  }
 },
 "nbformat": 4,
 "nbformat_minor": 2
}
