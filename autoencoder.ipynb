{
 "cells": [
  {
   "cell_type": "code",
   "execution_count": null,
   "metadata": {},
   "outputs": [],
   "source": [
    "import matplotlib.pyplot as plt\n",
    "import seaborn as sns\n",
    "from tensorflow.data import AUTOTUNE\n",
    "from tensorflow.keras.preprocessing.image import ImageDataGenerator\n",
    "from tensorflow.keras.models import Sequential\n",
    "from tensorflow.keras.layers import Conv2D, MaxPooling2D, BatchNormalization, Rescaling\n",
    "from tensorflow.keras.layers import Activation, Dropout, Flatten, Dense\n",
    "from tensorflow.keras.utils import image_dataset_from_directory, normalize, get_file\n",
    "from tensorflow.keras.callbacks import ModelCheckpoint\n",
    "from tensorflow.keras.metrics import BinaryAccuracy, FalsePositives, FalseNegatives, TruePositives, TrueNegatives, Precision, Recall, AUC\n",
    "from tensorflow import keras\n",
    "import h5py\n",
    "import numpy as np\n",
    "import time"
   ]
  },
  {
   "cell_type": "code",
   "execution_count": null,
   "metadata": {},
   "outputs": [],
   "source": [
    "data = np.load(\"/home/sairaman/Desktop/stead-dataset/data/waveforms/chunk2_to_1d_array_normalized.npz\")\n",
    "file_list = data.files\n",
    "train_examples = []\n",
    "test_examples = []\n",
    "split = int(len(file_list)*80/100)\n",
    "train_list = file_list[0:split]\n",
    "test_list = file_list[split+1:]\n",
    "check = []"
   ]
  },
  {
   "cell_type": "code",
   "execution_count": null,
   "metadata": {},
   "outputs": [],
   "source": [
    "for file_name in train_list:\n",
    "    print(file_name)\n",
    "    train_examples.append(data[file_name])\n",
    "for file_name in test_list:\n",
    "    print(file_name)\n",
    "    test_examples.append(data[file_name])\n",
    "np.savez_compressed('/home/sairaman/Desktop/stead-dataset/data/waveforms/chunk2_to_1d_array_test_normalized.npz', np.array(test_examples))\n",
    "np.savez_compressed('/home/sairaman/Desktop/stead-dataset/data/waveforms/chunk2_to_1d_array_train_normalized.npz', np.array(train_examples))"
   ]
  },
  {
   "cell_type": "code",
   "execution_count": null,
   "metadata": {},
   "outputs": [],
   "source": [
    "test = np.load(\"/home/sairaman/Desktop/stead-dataset/data/waveforms/chunk2_to_1d_array_train_normalized.npz\")\n",
    "test[\"arr_0\"].shape"
   ]
  },
  {
   "cell_type": "code",
   "execution_count": null,
   "metadata": {},
   "outputs": [],
   "source": [
    "data = test[\"arr_0\"].reshape((86376,3500,1))\n",
    "data.shape"
   ]
  },
  {
   "cell_type": "code",
   "execution_count": null,
   "metadata": {},
   "outputs": [],
   "source": [
    "data"
   ]
  },
  {
   "cell_type": "code",
   "execution_count": null,
   "metadata": {},
   "outputs": [],
   "source": [
    "from keras.layers import LSTM, RepeatVector, TimeDistributed\n",
    "# define model\n",
    "model = Sequential()\n",
    "model.add(LSTM(100, activation='relu', input_shape=(3500,1)))\n",
    "model.add(RepeatVector(3500))\n",
    "model.add(LSTM(100, activation='relu', return_sequences=True))\n",
    "model.add(TimeDistributed(Dense(1)))\n",
    "model.compile(optimizer='adam', loss='mse')"
   ]
  },
  {
   "cell_type": "code",
   "execution_count": null,
   "metadata": {},
   "outputs": [],
   "source": [
    "# fit model\n",
    "model.fit(data, data, epochs=30, verbose=0)"
   ]
  },
  {
   "cell_type": "code",
   "execution_count": null,
   "metadata": {},
   "outputs": [],
   "source": []
  }
 ],
 "metadata": {
  "kernelspec": {
   "display_name": "stead",
   "language": "python",
   "name": "python3"
  },
  "language_info": {
   "codemirror_mode": {
    "name": "ipython",
    "version": 3
   },
   "file_extension": ".py",
   "mimetype": "text/x-python",
   "name": "python",
   "nbconvert_exporter": "python",
   "pygments_lexer": "ipython3",
   "version": "3.9.16"
  },
  "orig_nbformat": 4,
  "vscode": {
   "interpreter": {
    "hash": "d608e7bfa37056166167c5142692bde53abd791bd4ca85e4f79560e52203aa72"
   }
  }
 },
 "nbformat": 4,
 "nbformat_minor": 2
}
