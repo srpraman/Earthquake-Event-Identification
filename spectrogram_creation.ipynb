{
 "cells": [
  {
   "cell_type": "code",
   "execution_count": null,
   "metadata": {},
   "outputs": [],
   "source": []
  }
 ],
 "metadata": {
  "kernelspec": {
   "display_name": "base",
   "language": "python",
   "name": "python3"
  },
  "language_info": {
   "name": "python",
   "version": "3.9.13 (main, Aug 25 2022, 23:26:10) \n[GCC 11.2.0]"
  },
  "orig_nbformat": 4,
  "vscode": {
   "interpreter": {
    "hash": "3ed1dd3b41ca3cee38d88899418c71e931483dac3557473ebc48186e6e2ec40a"
   }
  }
 },
 "nbformat": 4,
 "nbformat_minor": 2
}
